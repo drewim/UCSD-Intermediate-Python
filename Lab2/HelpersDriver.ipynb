{
 "cells": [
  {
   "cell_type": "code",
   "execution_count": 1,
   "metadata": {},
   "outputs": [],
   "source": [
    "from Helpers import *"
   ]
  },
  {
   "cell_type": "code",
   "execution_count": 2,
   "metadata": {},
   "outputs": [
    {
     "name": "stdout",
     "output_type": "stream",
     "text": [
      "-1 is out of range. Please enter a value between 0 and 100\n",
      "-1 is out of range. Please enter a value between 0 and 100\n",
      "101 is out of range. Please enter a value between 0 and 100\n",
      "99\n",
      "-100.0 is out of range. Please enter a value between -10 and 1000\n",
      "1000.1 is out of range. Please enter a value between -10 and 1000\n",
      "Invalid entry: dfkslj. Input needs to be in the float format. Try again.\n",
      "3.14159\n",
      "Str length 1 is out of range. Length must be between 5 and 10\n",
      "Str length 17 is out of range. Length must be between 5 and 10\n",
      "Just right\n",
      "Dec 10, 2020 needs to be in \"yyyy-mm-dd\" format. Try again\n",
      "2020-12-10\n"
     ]
    }
   ],
   "source": [
    "if __name__ == '__main__':\n",
    "    print(inputInt(\"Please enter a number: \", 0, 100))\n",
    "    print(inputFloat(\"Please enter a number: \", -10, 1000))\n",
    "    print(inputString(\"Enter some text: \", 5, 10))\n",
    "    print(inputDate(\"Enter a date: \"))"
   ]
  },
  {
   "cell_type": "code",
   "execution_count": null,
   "metadata": {},
   "outputs": [],
   "source": []
  }
 ],
 "metadata": {
  "kernelspec": {
   "display_name": "testenv",
   "language": "python",
   "name": "python3"
  },
  "language_info": {
   "codemirror_mode": {
    "name": "ipython",
    "version": 3
   },
   "file_extension": ".py",
   "mimetype": "text/x-python",
   "name": "python",
   "nbconvert_exporter": "python",
   "pygments_lexer": "ipython3",
   "version": "3.11.9"
  }
 },
 "nbformat": 4,
 "nbformat_minor": 2
}
